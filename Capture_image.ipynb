{
 "cells": [
  {
   "cell_type": "code",
   "execution_count": 5,
   "id": "27876985",
   "metadata": {},
   "outputs": [],
   "source": [
    "import cv2\n",
    "import os\n",
    "import time\n",
    "import uuid"
   ]
  },
  {
   "cell_type": "code",
   "execution_count": 6,
   "id": "c4202f1f",
   "metadata": {},
   "outputs": [],
   "source": [
    "IMAGES_PATH=\"Tensorflow/workspace/images/collectedimages\""
   ]
  },
  {
   "cell_type": "code",
   "execution_count": 7,
   "id": "9556ba38",
   "metadata": {},
   "outputs": [],
   "source": [
    "labels=[\"I_Love_You\"]#\"Nice\",\"to\",\"meet\",\"you\",\"Thank\",\"you2\",\"please\",\"Bye\"]\n",
    "number_imgs=60"
   ]
  },
  {
   "cell_type": "code",
   "execution_count": 8,
   "id": "14c2f008",
   "metadata": {},
   "outputs": [
    {
     "name": "stdout",
     "output_type": "stream",
     "text": [
      "Collecting images for I_Love_You\n"
     ]
    }
   ],
   "source": [
    "for label in labels:\n",
    "    !mkdir {'Tensorflow\\workspace\\images\\collectedimages\\\\'+label}\n",
    "    cap=cv2.VideoCapture(0)#initializing webcam(0,2)\n",
    "    print(\"Collecting images for {}\".format(label))\n",
    "    time.sleep(5)#position time before capturing images\n",
    "    for imgnum in range(number_imgs):#loop through number of images(15)\n",
    "        ret,frame =cap.read()\n",
    "        imgname=os.path.join(IMAGES_PATH,label,label+\".\"+\"{}.jpg\".format(str(uuid.uuid1())))#defining image name\n",
    "        cv2.imwrite(imgname,frame)\n",
    "        cv2.imshow(\"frame\",frame)\n",
    "        time.sleep(2)#pause between actions\n",
    "        \n",
    "        if cv2.waitKey(1) & 0xFF==ord(\"q\"):\n",
    "            break\n",
    "    cap.release()"
   ]
  },
  {
   "cell_type": "code",
   "execution_count": null,
   "id": "a7f1c998",
   "metadata": {},
   "outputs": [],
   "source": []
  },
  {
   "cell_type": "code",
   "execution_count": null,
   "id": "dcfee38b",
   "metadata": {},
   "outputs": [],
   "source": []
  }
 ],
 "metadata": {
  "kernelspec": {
   "display_name": "Python 3 (ipykernel)",
   "language": "python",
   "name": "python3"
  },
  "language_info": {
   "codemirror_mode": {
    "name": "ipython",
    "version": 3
   },
   "file_extension": ".py",
   "mimetype": "text/x-python",
   "name": "python",
   "nbconvert_exporter": "python",
   "pygments_lexer": "ipython3",
   "version": "3.9.12"
  }
 },
 "nbformat": 4,
 "nbformat_minor": 5
}
